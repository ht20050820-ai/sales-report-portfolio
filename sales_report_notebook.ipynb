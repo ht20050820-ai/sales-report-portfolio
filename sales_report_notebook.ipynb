{
 "cells": [
  {
   "cell_type": "markdown",
   "id": "e7700163",
   "metadata": {},
   "source": [
    "# 売上データ集計レポート（Notebook版）"
   ]
  },
  {
   "cell_type": "code",
   "execution_count": null,
   "id": "ab9444e7",
   "metadata": {},
   "outputs": [],
   "source": [
    "import pandas as pd, matplotlib.pyplot as plt\n",
    "df = pd.read_csv('sales-report-portfolio/sales_data.csv', encoding='utf-8-sig')\n",
    "df['date'] = pd.to_datetime(df['date'])\n",
    "df.head()"
   ]
  },
  {
   "cell_type": "markdown",
   "id": "1f1ad3c1",
   "metadata": {},
   "source": [
    "## 月別売上（折れ線）"
   ]
  },
  {
   "cell_type": "code",
   "execution_count": null,
   "id": "5bfbcad3",
   "metadata": {},
   "outputs": [],
   "source": [
    "monthly = df.groupby(df['date'].dt.to_period('M'))['amount'].sum()\n",
    "plt.figure(figsize=(8,4)); monthly.plot(marker='o'); plt.title('Monthly Sales'); plt.grid(True); plt.tight_layout(); plt.show()"
   ]
  },
  {
   "cell_type": "markdown",
   "id": "19876fbf",
   "metadata": {},
   "source": [
    "## 商品別 売上Top5（横棒）"
   ]
  },
  {
   "cell_type": "code",
   "execution_count": null,
   "id": "aab96540",
   "metadata": {},
   "outputs": [],
   "source": [
    "top5 = df.groupby('product')['amount'].sum().sort_values(ascending=False).head(5)\n",
    "plt.figure(figsize=(8,4)); top5.plot(kind='barh'); plt.title('Top 5 Products'); plt.tight_layout(); plt.show()"
   ]
  },
  {
   "cell_type": "markdown",
   "id": "a22556a4",
   "metadata": {},
   "source": [
    "## 店舗別 売上シェア（円）"
   ]
  },
  {
   "cell_type": "code",
   "execution_count": null,
   "id": "701821e2",
   "metadata": {},
   "outputs": [],
   "source": [
    "store = df.groupby('store')['amount'].sum()\n",
    "plt.figure(figsize=(6,6)); store.plot(kind='pie', autopct='%1.1f%%', startangle=90); plt.ylabel(''); plt.title('Sales Share by Store'); plt.tight_layout(); plt.show()"
   ]
  }
 ],
 "metadata": {},
 "nbformat": 4,
 "nbformat_minor": 5
}
